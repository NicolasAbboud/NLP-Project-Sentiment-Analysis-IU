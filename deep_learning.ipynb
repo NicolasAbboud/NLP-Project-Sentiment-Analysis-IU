{
 "cells": [
  {
   "cell_type": "markdown",
   "metadata": {},
   "source": [
    "# Sentiment Analysis with Deep Learning"
   ]
  },
  {
   "cell_type": "code",
   "execution_count": 23,
   "metadata": {},
   "outputs": [],
   "source": [
    "from tensorflow.keras import Sequential\n",
    "from tensorflow.keras.layers import Dense, Embedding, GlobalAveragePooling1D\n",
    "from tensorflow.keras.layers import TextVectorization\n",
    "from tensorflow.keras.models import load_model\n",
    "import tensorflow as tf\n",
    "\n",
    "tf.random.set_seed(42)"
   ]
  },
  {
   "cell_type": "markdown",
   "metadata": {},
   "source": [
    "Loading training / validation set (preprocessed):"
   ]
  },
  {
   "cell_type": "code",
   "execution_count": 24,
   "metadata": {},
   "outputs": [
    {
     "name": "stdout",
     "output_type": "stream",
     "text": [
      "Found 25000 files belonging to 2 classes.\n",
      "Using 20000 files for training.\n",
      "Found 25000 files belonging to 2 classes.\n",
      "Using 5000 files for validation.\n"
     ]
    }
   ],
   "source": [
    "batch_size = 1024\n",
    "seed = 42\n",
    "train_ds = tf.keras.utils.text_dataset_from_directory(\"./dataset/train/pre_final\", batch_size=batch_size, validation_split=0.2, subset=\"training\", seed=seed)\n",
    "val_ds = tf.keras.utils.text_dataset_from_directory(\"./dataset/train/pre_final\", batch_size=batch_size, validation_split=0.2, subset=\"validation\", seed=seed)"
   ]
  },
  {
   "cell_type": "code",
   "execution_count": 25,
   "metadata": {},
   "outputs": [
    {
     "name": "stdout",
     "output_type": "stream",
     "text": [
      "Label 0:  neg\n",
      "Label 1:  pos\n"
     ]
    }
   ],
   "source": [
    "print(\"Label 0: \", train_ds.class_names[0])\n",
    "print(\"Label 1: \", val_ds.class_names[1])"
   ]
  },
  {
   "cell_type": "markdown",
   "metadata": {},
   "source": [
    "Fetching some examples for testing implementation code:"
   ]
  },
  {
   "cell_type": "code",
   "execution_count": 26,
   "metadata": {},
   "outputs": [
    {
     "name": "stdout",
     "output_type": "stream",
     "text": [
      "1 b'first see twelve year ago little money entertainment rent fianc watch bone chill winter night want go rent instead not expect much much surprised good recently watch again love every bit much first time unfamiliar scottish outlaw cattleman folk hero little know man liberty take fact not textbook filmmaker excuse basically plot borrow money marquis montrose buy cattle intend sell reap large profit plan foil friend entrust money rob cash murder forest hero find run fail settle matter wife suffer sadistic rape hand archibald cunningham smarmy englishman no soul atrocity ensue immensely satisfying conclusion carve archibald like christmas turkey many great performance allow touch specifically usual fantastic sexy beast not take eye honestly man like ice cream even bad good honourable man struggle provide depend good way know give woman fierceness nice change simpering dull wife audience usually force endure know not take anyone else matter completely top portrayal evil yet somehow work posturing preening combine wicked dialogue result memorable villain recent memory combine stellar work support player luscious scenery scotland amount cool not see highly recommend '\n",
      "1 b'welcome back long since appear no intriguing especially pro like lead embattle secret service agent character chase whole partner desperate houswife wow actually act besides flirt day look good wish though big role think whole blast start finish consider political thriller everybody play part hilt nothing reveal sooon keep guess time think kiefer heck job opinion besxt performance day thumb '\n",
      "1 b' tulip australian short video tribe first rites showcase talent first time director wish script excellent dialogue hope tell well '\n",
      "0 b'well endless quest horror come across apparently release dvd recently ungodly reason transfer awful quality suck not think due bad remaster anything think poorly obviously abandon school budget no doubt waste cheap beer no talent hack slaughter high start slow not pick pace hour first get see nerd pick group actually not even know suppose jock ringleader ultra hooknose ugly definitely cast nerd big guy couple dumb loser chick suppose hot not mystery group reject pick guess viewer assume cool kid pick dweeb cast choice horrendous high schooler play thirty something reviewer point actor call bunch brits whose accent slip numerous time throughout piece crap leave assume group child student school reunion school show abandon kill lame not great script like scooby doo real people line like place give creep someone gimme beer highlight not good skip unless getting waste friend wanna laugh real lame attempt slasher wanna see good get bay blood year early heck lot well wanna see good bad slasher see dawn burning kid '\n",
      "0 b'although beginning suggest quiet western front silly superficial version war fall far astray much well contemporary depict funn war ever fight first hour half devoted romance good time finally see battle lame enemy plane fly shoot shot sniper tree kill get shot enemy soldier wood not worry gladly surrender ho hum tepid turgid predictable '\n"
     ]
    }
   ],
   "source": [
    "for text_batch, label_batch in train_ds.take(1):\n",
    "    for i in range(5):\n",
    "        print(label_batch[i].numpy(), text_batch.numpy()[i])"
   ]
  },
  {
   "cell_type": "markdown",
   "metadata": {},
   "source": [
    "Optimize tf:"
   ]
  },
  {
   "cell_type": "code",
   "execution_count": 27,
   "metadata": {},
   "outputs": [],
   "source": [
    "AUTOTUNE = tf.data.AUTOTUNE\n",
    "train_ds = train_ds.cache().prefetch(buffer_size=AUTOTUNE)\n",
    "val_ds = val_ds.cache().prefetch(buffer_size=AUTOTUNE)"
   ]
  },
  {
   "cell_type": "markdown",
   "metadata": {},
   "source": [
    "## Build the Model"
   ]
  },
  {
   "cell_type": "code",
   "execution_count": 28,
   "metadata": {},
   "outputs": [],
   "source": [
    "vocab_size = 15000 \n",
    "sequence_length = 500\n",
    "embedding_dim = 8 "
   ]
  },
  {
   "cell_type": "markdown",
   "metadata": {},
   "source": [
    "Input Layer:"
   ]
  },
  {
   "cell_type": "code",
   "execution_count": 29,
   "metadata": {},
   "outputs": [],
   "source": [
    "vectorize_layer = TextVectorization(\n",
    "    standardize = None, \n",
    "    max_tokens = vocab_size, \n",
    "    ngrams = (1,2),  \n",
    "    output_mode = \"int\", \n",
    "    output_sequence_length = sequence_length\n",
    ")"
   ]
  },
  {
   "cell_type": "markdown",
   "metadata": {},
   "source": [
    "Map and adapt to build the vocabulary:"
   ]
  },
  {
   "cell_type": "code",
   "execution_count": 30,
   "metadata": {},
   "outputs": [],
   "source": [
    "text_ds = train_ds.map(lambda x, y:x)\n",
    "vectorize_layer.adapt(text_ds)"
   ]
  },
  {
   "cell_type": "markdown",
   "metadata": {},
   "source": [
    "Build the architecture:"
   ]
  },
  {
   "cell_type": "code",
   "execution_count": 31,
   "metadata": {},
   "outputs": [],
   "source": [
    "model = Sequential([\n",
    "    vectorize_layer, \n",
    "    Embedding(vocab_size, embedding_dim, name=\"embedding\"), \n",
    "    GlobalAveragePooling1D(),    \n",
    "    Dense(16, activation=\"relu\"), \n",
    "    Dense(1)\n",
    "])"
   ]
  },
  {
   "cell_type": "markdown",
   "metadata": {},
   "source": [
    "Optimizing training process and plot graphics to tensorboard:"
   ]
  },
  {
   "cell_type": "code",
   "execution_count": 32,
   "metadata": {},
   "outputs": [],
   "source": [
    "import datetime \n",
    "log_dir = \"./logs\" + datetime.datetime.now().strftime(\"%Y%m%d-%H%M%S\") + \"final\"\n",
    "tensorboard_callback = tf.keras.callbacks.TensorBoard(log_dir=log_dir)\n",
    "tensorboard_callback_early_stopping = tf.keras.callbacks.EarlyStopping(\n",
    "    monitor='val_loss',\n",
    "    min_delta=0,\n",
    "    patience=3,\n",
    "    verbose=0,\n",
    "    mode='auto',\n",
    "    baseline=None,\n",
    "    restore_best_weights=False,\n",
    "    start_from_epoch=15\n",
    ")"
   ]
  },
  {
   "cell_type": "markdown",
   "metadata": {},
   "source": [
    "Compile the model:"
   ]
  },
  {
   "cell_type": "code",
   "execution_count": 34,
   "metadata": {},
   "outputs": [],
   "source": [
    "model.compile(optimizer=\"adam\", \n",
    "              loss = tf.keras.losses.BinaryCrossentropy(from_logits=True), \n",
    "              metrics = [\"accuracy\"])"
   ]
  },
  {
   "cell_type": "markdown",
   "metadata": {},
   "source": [
    "And finally fit it: "
   ]
  },
  {
   "cell_type": "code",
   "execution_count": 13,
   "metadata": {},
   "outputs": [
    {
     "name": "stdout",
     "output_type": "stream",
     "text": [
      "Epoch 1/100\n",
      "\u001b[1m20/20\u001b[0m \u001b[32m━━━━━━━━━━━━━━━━━━━━\u001b[0m\u001b[37m\u001b[0m \u001b[1m4s\u001b[0m 206ms/step - accuracy: 0.9401 - loss: 0.1670 - val_accuracy: 0.8758 - val_loss: 0.2793\n",
      "Epoch 2/100\n",
      "\u001b[1m20/20\u001b[0m \u001b[32m━━━━━━━━━━━━━━━━━━━━\u001b[0m\u001b[37m\u001b[0m \u001b[1m4s\u001b[0m 207ms/step - accuracy: 0.9409 - loss: 0.1653 - val_accuracy: 0.8758 - val_loss: 0.2794\n",
      "Epoch 3/100\n",
      "\u001b[1m20/20\u001b[0m \u001b[32m━━━━━━━━━━━━━━━━━━━━\u001b[0m\u001b[37m\u001b[0m \u001b[1m4s\u001b[0m 221ms/step - accuracy: 0.9416 - loss: 0.1635 - val_accuracy: 0.8756 - val_loss: 0.2796\n",
      "Epoch 4/100\n",
      "\u001b[1m20/20\u001b[0m \u001b[32m━━━━━━━━━━━━━━━━━━━━\u001b[0m\u001b[37m\u001b[0m \u001b[1m4s\u001b[0m 210ms/step - accuracy: 0.9424 - loss: 0.1618 - val_accuracy: 0.8754 - val_loss: 0.2799\n",
      "Epoch 5/100\n",
      "\u001b[1m20/20\u001b[0m \u001b[32m━━━━━━━━━━━━━━━━━━━━\u001b[0m\u001b[37m\u001b[0m \u001b[1m4s\u001b[0m 201ms/step - accuracy: 0.9424 - loss: 0.1601 - val_accuracy: 0.8756 - val_loss: 0.2801\n",
      "Epoch 6/100\n",
      "\u001b[1m20/20\u001b[0m \u001b[32m━━━━━━━━━━━━━━━━━━━━\u001b[0m\u001b[37m\u001b[0m \u001b[1m4s\u001b[0m 205ms/step - accuracy: 0.9429 - loss: 0.1585 - val_accuracy: 0.8758 - val_loss: 0.2804\n",
      "Epoch 7/100\n",
      "\u001b[1m20/20\u001b[0m \u001b[32m━━━━━━━━━━━━━━━━━━━━\u001b[0m\u001b[37m\u001b[0m \u001b[1m4s\u001b[0m 200ms/step - accuracy: 0.9437 - loss: 0.1569 - val_accuracy: 0.8752 - val_loss: 0.2806\n",
      "Epoch 8/100\n",
      "\u001b[1m20/20\u001b[0m \u001b[32m━━━━━━━━━━━━━━━━━━━━\u001b[0m\u001b[37m\u001b[0m \u001b[1m4s\u001b[0m 201ms/step - accuracy: 0.9442 - loss: 0.1552 - val_accuracy: 0.8764 - val_loss: 0.2809\n",
      "Epoch 9/100\n",
      "\u001b[1m20/20\u001b[0m \u001b[32m━━━━━━━━━━━━━━━━━━━━\u001b[0m\u001b[37m\u001b[0m \u001b[1m4s\u001b[0m 204ms/step - accuracy: 0.9446 - loss: 0.1536 - val_accuracy: 0.8764 - val_loss: 0.2812\n",
      "Epoch 10/100\n",
      "\u001b[1m20/20\u001b[0m \u001b[32m━━━━━━━━━━━━━━━━━━━━\u001b[0m\u001b[37m\u001b[0m \u001b[1m4s\u001b[0m 206ms/step - accuracy: 0.9451 - loss: 0.1521 - val_accuracy: 0.8758 - val_loss: 0.2816\n",
      "Epoch 11/100\n",
      "\u001b[1m20/20\u001b[0m \u001b[32m━━━━━━━━━━━━━━━━━━━━\u001b[0m\u001b[37m\u001b[0m \u001b[1m4s\u001b[0m 210ms/step - accuracy: 0.9457 - loss: 0.1506 - val_accuracy: 0.8760 - val_loss: 0.2819\n",
      "Epoch 12/100\n",
      "\u001b[1m20/20\u001b[0m \u001b[32m━━━━━━━━━━━━━━━━━━━━\u001b[0m\u001b[37m\u001b[0m \u001b[1m4s\u001b[0m 207ms/step - accuracy: 0.9461 - loss: 0.1490 - val_accuracy: 0.8758 - val_loss: 0.2823\n",
      "Epoch 13/100\n",
      "\u001b[1m20/20\u001b[0m \u001b[32m━━━━━━━━━━━━━━━━━━━━\u001b[0m\u001b[37m\u001b[0m \u001b[1m4s\u001b[0m 207ms/step - accuracy: 0.9467 - loss: 0.1476 - val_accuracy: 0.8758 - val_loss: 0.2827\n",
      "Epoch 14/100\n",
      "\u001b[1m20/20\u001b[0m \u001b[32m━━━━━━━━━━━━━━━━━━━━\u001b[0m\u001b[37m\u001b[0m \u001b[1m4s\u001b[0m 208ms/step - accuracy: 0.9476 - loss: 0.1461 - val_accuracy: 0.8760 - val_loss: 0.2832\n",
      "Epoch 15/100\n",
      "\u001b[1m20/20\u001b[0m \u001b[32m━━━━━━━━━━━━━━━━━━━━\u001b[0m\u001b[37m\u001b[0m \u001b[1m4s\u001b[0m 205ms/step - accuracy: 0.9480 - loss: 0.1446 - val_accuracy: 0.8760 - val_loss: 0.2836\n",
      "Epoch 16/100\n",
      "\u001b[1m20/20\u001b[0m \u001b[32m━━━━━━━━━━━━━━━━━━━━\u001b[0m\u001b[37m\u001b[0m \u001b[1m4s\u001b[0m 223ms/step - accuracy: 0.9490 - loss: 0.1432 - val_accuracy: 0.8760 - val_loss: 0.2841\n",
      "Epoch 17/100\n",
      "\u001b[1m20/20\u001b[0m \u001b[32m━━━━━━━━━━━━━━━━━━━━\u001b[0m\u001b[37m\u001b[0m \u001b[1m4s\u001b[0m 217ms/step - accuracy: 0.9498 - loss: 0.1418 - val_accuracy: 0.8756 - val_loss: 0.2846\n",
      "Epoch 18/100\n",
      "\u001b[1m20/20\u001b[0m \u001b[32m━━━━━━━━━━━━━━━━━━━━\u001b[0m\u001b[37m\u001b[0m \u001b[1m4s\u001b[0m 208ms/step - accuracy: 0.9502 - loss: 0.1404 - val_accuracy: 0.8752 - val_loss: 0.2851\n"
     ]
    },
    {
     "data": {
      "text/plain": [
       "<keras.src.callbacks.history.History at 0x272f15c3650>"
      ]
     },
     "execution_count": 13,
     "metadata": {},
     "output_type": "execute_result"
    }
   ],
   "source": [
    "model.fit(\n",
    "    train_ds,\n",
    "    validation_data = val_ds,\n",
    "    epochs = 100, \n",
    "    callbacks=[tensorboard_callback, tensorboard_callback_early_stopping]\n",
    ")"
   ]
  },
  {
   "cell_type": "markdown",
   "metadata": {},
   "source": [
    "Show model summary:"
   ]
  },
  {
   "cell_type": "code",
   "execution_count": 14,
   "metadata": {},
   "outputs": [
    {
     "data": {
      "text/html": [
       "<pre style=\"white-space:pre;overflow-x:auto;line-height:normal;font-family:Menlo,'DejaVu Sans Mono',consolas,'Courier New',monospace\"><span style=\"font-weight: bold\">Model: \"sequential\"</span>\n",
       "</pre>\n"
      ],
      "text/plain": [
       "\u001b[1mModel: \"sequential\"\u001b[0m\n"
      ]
     },
     "metadata": {},
     "output_type": "display_data"
    },
    {
     "data": {
      "text/html": [
       "<pre style=\"white-space:pre;overflow-x:auto;line-height:normal;font-family:Menlo,'DejaVu Sans Mono',consolas,'Courier New',monospace\">┏━━━━━━━━━━━━━━━━━━━━━━━━━━━━━━━━━━━━━━┳━━━━━━━━━━━━━━━━━━━━━━━━━━━━━┳━━━━━━━━━━━━━━━━━┓\n",
       "┃<span style=\"font-weight: bold\"> Layer (type)                         </span>┃<span style=\"font-weight: bold\"> Output Shape                </span>┃<span style=\"font-weight: bold\">         Param # </span>┃\n",
       "┡━━━━━━━━━━━━━━━━━━━━━━━━━━━━━━━━━━━━━━╇━━━━━━━━━━━━━━━━━━━━━━━━━━━━━╇━━━━━━━━━━━━━━━━━┩\n",
       "│ text_vectorization                   │ (<span style=\"color: #00d7ff; text-decoration-color: #00d7ff\">None</span>, <span style=\"color: #00af00; text-decoration-color: #00af00\">500</span>)                 │               <span style=\"color: #00af00; text-decoration-color: #00af00\">0</span> │\n",
       "│ (<span style=\"color: #0087ff; text-decoration-color: #0087ff\">TextVectorization</span>)                  │                             │                 │\n",
       "├──────────────────────────────────────┼─────────────────────────────┼─────────────────┤\n",
       "│ embedding (<span style=\"color: #0087ff; text-decoration-color: #0087ff\">Embedding</span>)                │ (<span style=\"color: #00d7ff; text-decoration-color: #00d7ff\">None</span>, <span style=\"color: #00af00; text-decoration-color: #00af00\">500</span>, <span style=\"color: #00af00; text-decoration-color: #00af00\">8</span>)              │         <span style=\"color: #00af00; text-decoration-color: #00af00\">120,000</span> │\n",
       "├──────────────────────────────────────┼─────────────────────────────┼─────────────────┤\n",
       "│ global_average_pooling1d             │ (<span style=\"color: #00d7ff; text-decoration-color: #00d7ff\">None</span>, <span style=\"color: #00af00; text-decoration-color: #00af00\">8</span>)                   │               <span style=\"color: #00af00; text-decoration-color: #00af00\">0</span> │\n",
       "│ (<span style=\"color: #0087ff; text-decoration-color: #0087ff\">GlobalAveragePooling1D</span>)             │                             │                 │\n",
       "├──────────────────────────────────────┼─────────────────────────────┼─────────────────┤\n",
       "│ dense (<span style=\"color: #0087ff; text-decoration-color: #0087ff\">Dense</span>)                        │ (<span style=\"color: #00d7ff; text-decoration-color: #00d7ff\">None</span>, <span style=\"color: #00af00; text-decoration-color: #00af00\">16</span>)                  │             <span style=\"color: #00af00; text-decoration-color: #00af00\">144</span> │\n",
       "├──────────────────────────────────────┼─────────────────────────────┼─────────────────┤\n",
       "│ dense_1 (<span style=\"color: #0087ff; text-decoration-color: #0087ff\">Dense</span>)                      │ (<span style=\"color: #00d7ff; text-decoration-color: #00d7ff\">None</span>, <span style=\"color: #00af00; text-decoration-color: #00af00\">1</span>)                   │              <span style=\"color: #00af00; text-decoration-color: #00af00\">17</span> │\n",
       "└──────────────────────────────────────┴─────────────────────────────┴─────────────────┘\n",
       "</pre>\n"
      ],
      "text/plain": [
       "┏━━━━━━━━━━━━━━━━━━━━━━━━━━━━━━━━━━━━━━┳━━━━━━━━━━━━━━━━━━━━━━━━━━━━━┳━━━━━━━━━━━━━━━━━┓\n",
       "┃\u001b[1m \u001b[0m\u001b[1mLayer (type)                        \u001b[0m\u001b[1m \u001b[0m┃\u001b[1m \u001b[0m\u001b[1mOutput Shape               \u001b[0m\u001b[1m \u001b[0m┃\u001b[1m \u001b[0m\u001b[1m        Param #\u001b[0m\u001b[1m \u001b[0m┃\n",
       "┡━━━━━━━━━━━━━━━━━━━━━━━━━━━━━━━━━━━━━━╇━━━━━━━━━━━━━━━━━━━━━━━━━━━━━╇━━━━━━━━━━━━━━━━━┩\n",
       "│ text_vectorization                   │ (\u001b[38;5;45mNone\u001b[0m, \u001b[38;5;34m500\u001b[0m)                 │               \u001b[38;5;34m0\u001b[0m │\n",
       "│ (\u001b[38;5;33mTextVectorization\u001b[0m)                  │                             │                 │\n",
       "├──────────────────────────────────────┼─────────────────────────────┼─────────────────┤\n",
       "│ embedding (\u001b[38;5;33mEmbedding\u001b[0m)                │ (\u001b[38;5;45mNone\u001b[0m, \u001b[38;5;34m500\u001b[0m, \u001b[38;5;34m8\u001b[0m)              │         \u001b[38;5;34m120,000\u001b[0m │\n",
       "├──────────────────────────────────────┼─────────────────────────────┼─────────────────┤\n",
       "│ global_average_pooling1d             │ (\u001b[38;5;45mNone\u001b[0m, \u001b[38;5;34m8\u001b[0m)                   │               \u001b[38;5;34m0\u001b[0m │\n",
       "│ (\u001b[38;5;33mGlobalAveragePooling1D\u001b[0m)             │                             │                 │\n",
       "├──────────────────────────────────────┼─────────────────────────────┼─────────────────┤\n",
       "│ dense (\u001b[38;5;33mDense\u001b[0m)                        │ (\u001b[38;5;45mNone\u001b[0m, \u001b[38;5;34m16\u001b[0m)                  │             \u001b[38;5;34m144\u001b[0m │\n",
       "├──────────────────────────────────────┼─────────────────────────────┼─────────────────┤\n",
       "│ dense_1 (\u001b[38;5;33mDense\u001b[0m)                      │ (\u001b[38;5;45mNone\u001b[0m, \u001b[38;5;34m1\u001b[0m)                   │              \u001b[38;5;34m17\u001b[0m │\n",
       "└──────────────────────────────────────┴─────────────────────────────┴─────────────────┘\n"
      ]
     },
     "metadata": {},
     "output_type": "display_data"
    },
    {
     "data": {
      "text/html": [
       "<pre style=\"white-space:pre;overflow-x:auto;line-height:normal;font-family:Menlo,'DejaVu Sans Mono',consolas,'Courier New',monospace\"><span style=\"font-weight: bold\"> Total params: </span><span style=\"color: #00af00; text-decoration-color: #00af00\">360,485</span> (1.38 MB)\n",
       "</pre>\n"
      ],
      "text/plain": [
       "\u001b[1m Total params: \u001b[0m\u001b[38;5;34m360,485\u001b[0m (1.38 MB)\n"
      ]
     },
     "metadata": {},
     "output_type": "display_data"
    },
    {
     "data": {
      "text/html": [
       "<pre style=\"white-space:pre;overflow-x:auto;line-height:normal;font-family:Menlo,'DejaVu Sans Mono',consolas,'Courier New',monospace\"><span style=\"font-weight: bold\"> Trainable params: </span><span style=\"color: #00af00; text-decoration-color: #00af00\">120,161</span> (469.38 KB)\n",
       "</pre>\n"
      ],
      "text/plain": [
       "\u001b[1m Trainable params: \u001b[0m\u001b[38;5;34m120,161\u001b[0m (469.38 KB)\n"
      ]
     },
     "metadata": {},
     "output_type": "display_data"
    },
    {
     "data": {
      "text/html": [
       "<pre style=\"white-space:pre;overflow-x:auto;line-height:normal;font-family:Menlo,'DejaVu Sans Mono',consolas,'Courier New',monospace\"><span style=\"font-weight: bold\"> Non-trainable params: </span><span style=\"color: #00af00; text-decoration-color: #00af00\">0</span> (0.00 B)\n",
       "</pre>\n"
      ],
      "text/plain": [
       "\u001b[1m Non-trainable params: \u001b[0m\u001b[38;5;34m0\u001b[0m (0.00 B)\n"
      ]
     },
     "metadata": {},
     "output_type": "display_data"
    },
    {
     "data": {
      "text/html": [
       "<pre style=\"white-space:pre;overflow-x:auto;line-height:normal;font-family:Menlo,'DejaVu Sans Mono',consolas,'Courier New',monospace\"><span style=\"font-weight: bold\"> Optimizer params: </span><span style=\"color: #00af00; text-decoration-color: #00af00\">240,324</span> (938.77 KB)\n",
       "</pre>\n"
      ],
      "text/plain": [
       "\u001b[1m Optimizer params: \u001b[0m\u001b[38;5;34m240,324\u001b[0m (938.77 KB)\n"
      ]
     },
     "metadata": {},
     "output_type": "display_data"
    }
   ],
   "source": [
    "model.summary()"
   ]
  },
  {
   "cell_type": "markdown",
   "metadata": {},
   "source": [
    "Save model:"
   ]
  },
  {
   "cell_type": "code",
   "execution_count": 18,
   "metadata": {},
   "outputs": [],
   "source": [
    "model.save('./models/model_NN_final.keras')"
   ]
  },
  {
   "cell_type": "code",
   "execution_count": 19,
   "metadata": {},
   "outputs": [],
   "source": [
    "weights = model.get_layer(\"embedding\").get_weights()[0]\n",
    "vocab = vectorize_layer.get_vocabulary()"
   ]
  },
  {
   "cell_type": "code",
   "execution_count": 20,
   "metadata": {},
   "outputs": [],
   "source": [
    "import io \n",
    "\n",
    "out_v = io.open(\"./models/vectors_NN_final.tsv\", \"w\", encoding=\"utf-8\")\n",
    "out_m = io.open(\"./models/metadata_NN_final.tsv\", \"w\", encoding=\"utf-8\")\n",
    "\n",
    "for index, word in enumerate(vocab):\n",
    "    if index == 0:\n",
    "        continue  # skip 0, its padding\n",
    "\n",
    "    else:\n",
    "        vec = weights[index]\n",
    "        out_v.write(\"\\t\".join([str(x) for x in vec]) + \"\\n\")\n",
    "        out_m.write(word + \"\\n\")\n",
    "\n",
    "out_v.close()\n",
    "out_m.close() "
   ]
  },
  {
   "cell_type": "markdown",
   "metadata": {},
   "source": [
    "# Testing"
   ]
  },
  {
   "cell_type": "markdown",
   "metadata": {},
   "source": [
    "Load preprocessed test set: "
   ]
  },
  {
   "cell_type": "code",
   "execution_count": 9,
   "metadata": {},
   "outputs": [
    {
     "name": "stdout",
     "output_type": "stream",
     "text": [
      "Found 25000 files belonging to 2 classes.\n"
     ]
    }
   ],
   "source": [
    "test_ds = tf.keras.utils.text_dataset_from_directory(\"./dataset/test/pre_final\")"
   ]
  },
  {
   "cell_type": "markdown",
   "metadata": {},
   "source": [
    "Evaluate model on test set:"
   ]
  },
  {
   "cell_type": "code",
   "execution_count": 10,
   "metadata": {},
   "outputs": [
    {
     "ename": "NameError",
     "evalue": "name 'model' is not defined",
     "output_type": "error",
     "traceback": [
      "\u001b[1;31m---------------------------------------------------------------------------\u001b[0m",
      "\u001b[1;31mNameError\u001b[0m                                 Traceback (most recent call last)",
      "Cell \u001b[1;32mIn[10], line 1\u001b[0m\n\u001b[1;32m----> 1\u001b[0m results \u001b[38;5;241m=\u001b[39m model\u001b[38;5;241m.\u001b[39mevaluate(test_ds)\n\u001b[0;32m      3\u001b[0m \u001b[38;5;28;01mfor\u001b[39;00m name, value \u001b[38;5;129;01min\u001b[39;00m \u001b[38;5;28mzip\u001b[39m(model\u001b[38;5;241m.\u001b[39mmetrics_names, results):\n\u001b[0;32m      4\u001b[0m   \u001b[38;5;28mprint\u001b[39m(\u001b[38;5;124m\"\u001b[39m\u001b[38;5;132;01m%s\u001b[39;00m\u001b[38;5;124m: \u001b[39m\u001b[38;5;132;01m%.3f\u001b[39;00m\u001b[38;5;124m\"\u001b[39m \u001b[38;5;241m%\u001b[39m (name, value))\n",
      "\u001b[1;31mNameError\u001b[0m: name 'model' is not defined"
     ]
    }
   ],
   "source": [
    "results = model.evaluate(test_ds)\n",
    "\n",
    "for name, value in zip(model.metrics_names, results):\n",
    "  print(\"%s: %.3f\" % (name, value))"
   ]
  },
  {
   "cell_type": "markdown",
   "metadata": {},
   "source": [
    "# Use Model to predict own Examples:"
   ]
  },
  {
   "cell_type": "markdown",
   "metadata": {},
   "source": [
    "Here you can enter own texts to predict their sentiment: "
   ]
  },
  {
   "cell_type": "code",
   "execution_count": 31,
   "metadata": {},
   "outputs": [],
   "source": [
    "examples = [ #neg, neg, pos pos pos\n",
    "\"\"\"Humm, an Italian movie starred by David hasselhoff and Linda Blair, I wasn´t expecting very much, to be honest and in fact, I took even less than I was expecting. It doesn´t mean this movie is the worst I have seen because I have watched worse things than this but the plot was most of the times confusing and uninteresting and some good gore scenes are the only thing saving this. Apart from that you are going to love some special effects, they are really cheesy and bad. Now I only want to watch \"Troll 3\" by this same director, sure it is not going to be worse than that.\"\"\",\n",
    "\"\"\"It actually pains me to say it, but this movie was horrible on every level. The blame does not lie entirely with Van Damme as you can see he tried his best, but let's face it, he's almost fifty, how much more can you ask of him? I find it so hard to believe that the same people who put together Undisputed 2; arguably the best (western) martial arts movie in years, created this. Everything from the plot, to the dialog, to the editing, to the overall acting was just horribly put together and in many cases outright boring and nonsensical. Scott Adkins who's fight scenes seemed more like a demo reel, was also terribly underused and not even the main villain which is such a shame because 1) He is more than capable of playing that role and 2) The actual main villain was not only not intimidating at all but also quite annoying. Again, not blaming Van Damme. I will always be a fan, but avoid this one.\"\"\",\n",
    "\"\"\"I watch Lackawanna Blues every time it comes on. It brings back happy times for me. I grow up in a big city in the mid-west. It reminds me of when I was a child although my situation was a little different it feels the same. It makes me wonder if all we will ever know about families are lost. The big mama's of day are under the age of 55. Will they see know what it takes to be a inspiration to other. I hope that I was not the only one who loved this movie enough to relate it to their past. The music was great in this movie. I truly felt like this should have gone to the theaters I would have paid to see it. As I viewed the movie for the second time I figured out who life this movie was about. He did an superb job in writing and producing this film. I guess who better to produce a film based on your life other than you. As soon as I can I will be obtaining a copy for my home use. I alway enjoy black producer or directors they make such film feel like you were actually living in the time right than. Thanks for such a great movie.\"\"\",\n",
    "\"\"\"Jacqueline Hyde is a good quality film and does manage to be likable because of what it is. Everyone out there will like it! Sandwiched between the amount of breast shots, the times Jacqueline rubs herself, the various times Jackie spends chatting to herself and the times spent heaving in the Magdelena Mountains, this could create one hell of a dishwasher if your career were to end.<br /><br />Unlike most horror movies that take place in space or in some restless tranquility with ripe green apples, this one takes awhile to guzzle. The performing is good. Other than great acting by Dan the pizza delivery guy (must see), there are no standouts, but no notably bad outcroppings from my recent dinner either (and I do mean recent). Excellent acting overall because there are no typically dreadful actors which you'd find in movies of the four \"Skin\" related data fields or in the biological skimmer's found in any IBM shop. In addition if you see a female in this movie, the likelihood is that she will be butt naked by the next scene! Now that I think about it, there is quite a bit of action in this movie. Between the first and the second electro yank obtained from a hot chick and the time you observe her \"buckets naked\", keeps em' speculating. I loved it!\"\"\", \n",
    "\"\"\"1 b'first saw twelve year ago little money entertainment rented fianc watch bone chilling winter night wanted gone rented instead not expecting much much surprised good recently watched again loved every bit much first time unfamiliar scottish outlaw cattleman folk hero little know man liberty taken fact not textbook filmmaker excused basically plot borrows money marquis montrose buy cattle intends sell reap large profit plan foiled friend entrusted money robbed cash murdered forest hero find run failing settle matter wife suffers sadistic rape hand archibald cunningham smarmy englishman no soul atrocity ensue immensely satisfying conclusion carves archibald like christmas turkey many great performance allow touch specifically usual fantastic sexy beast ca take eye honestly man like ice cream even bad good honourable man struggling provide depend best way know give woman fierceness nice change simpering dull wife audience usually forced endure know take anyone else matter completely top portrayal evil yet somehow work posturing preening combined wicked dialogue result memorable villain recent memory combine stellar work supporting player luscious scenery scotland amount cool seen highly recommend '\n",
    "\"\"\"\n",
    "]"
   ]
  },
  {
   "cell_type": "markdown",
   "metadata": {},
   "source": [
    "Preprocessing the input:"
   ]
  },
  {
   "cell_type": "code",
   "execution_count": 32,
   "metadata": {},
   "outputs": [],
   "source": [
    "import spacy\n",
    "nlp = spacy.load(\"en_core_web_sm\")\n",
    "import re \n",
    "from nltk.stem import WordNetLemmatizer\n",
    "from nltk.corpus import stopwords\n",
    "\n",
    "stop_words = set(stopwords.words(\"english\"))\n",
    "stop_words.remove(\"not\")\n",
    "stop_words.remove(\"nor\")\n",
    "stop_words.remove(\"no\")\n",
    "stop_words.remove(\"again\")\n",
    "add_stopwords  = set([\"movie\", \"film\", \"one\", \"the\", \"scene\", \"this\", \"story\", \"would\", \"really\", \"and\", \"also\", ])\n",
    "stop_words = stop_words.union(add_stopwords)\n",
    "\n",
    "def remove_html(text):\n",
    "    text = re.sub(r\"<[\\w]+ />\", \" \", text)\n",
    "    text = re.sub(\"n't\", \" not\", text)\n",
    "    return text \n",
    "\n",
    "def clean_text(text):\n",
    "    text = text.lower()\n",
    "    text = re.sub(r\"\\b\\w{1,1}\\b\", \" \", text)                                                     # remove single characters\n",
    "    text = re.sub(r\"[^a-z]\", \" \", text)                                                          # remove everything which aren't letters\n",
    "    text = re.sub(r\"[\\s]+\", \" \", text)                                                           # remove too many whitespaces\n",
    "    return text\n",
    "\n",
    "def process_and_filter_non_entities(text):\n",
    "    doc = nlp(text)\n",
    "    non_entity_lemmas = [token.lemma_ for token in doc if token.ent_type_ != \"PERSON\"]\n",
    "    non_entity_lemmas = [token for token in non_entity_lemmas if token.lower() not in stop_words]\n",
    "    text = \" \".join(non_entity_lemmas) \n",
    "    return text"
   ]
  },
  {
   "cell_type": "markdown",
   "metadata": {},
   "source": [
    "Predict own data:"
   ]
  },
  {
   "cell_type": "code",
   "execution_count": 40,
   "metadata": {},
   "outputs": [
    {
     "name": "stdout",
     "output_type": "stream",
     "text": [
      "Humm, an Italian movie starred by David hasselhoff and Linda Blair, I wasn´t expecting very much, to be honest and in fa...\n",
      "→ Negative :( (score=0.0024)\n",
      "\n",
      "It actually pains me to say it, but this movie was horrible on every level. The blame does not lie entirely with Van Dam...\n",
      "→ Negative :( (score=0.0033)\n",
      "\n",
      "I watch Lackawanna Blues every time it comes on. It brings back happy times for me. I grow up in a big city in the mid-w...\n",
      "→ Positive :) (score=0.9950)\n",
      "\n",
      "Jacqueline Hyde is a good quality film and does manage to be likable because of what it is. Everyone out there will like...\n",
      "→ Positive :) (score=0.9423)\n",
      "\n",
      "1 b'first saw twelve year ago little money entertainment rented fianc watch bone chilling winter night wanted gone rente...\n",
      "→ Positive :) (score=0.9755)\n",
      "\n"
     ]
    }
   ],
   "source": [
    "def predict_new_data(text_sample):\n",
    "    for t in text_sample:\n",
    "        text_removed_html = remove_html(t)\n",
    "        text_removed_ents = process_and_filter_non_entities(text_removed_html)\n",
    "        processed_content = clean_text(text_removed_ents)\n",
    "\n",
    "        # Ensure it's a tensor\n",
    "        pred = model.predict(tf.constant([processed_content]), verbose=0)\n",
    "\n",
    "        # Apply sigmoid and convert to Python float\n",
    "        prob = tf.nn.sigmoid(pred[0]).numpy().item()\n",
    "\n",
    "        # Print short preview + sentiment\n",
    "        preview = text_removed_html[:120] + \"...\"\n",
    "        if prob > 0.5:\n",
    "            print(f\"{preview}\\n→ Positive :) (score={prob:.4f})\\n\")\n",
    "        else:\n",
    "            print(f\"{preview}\\n→ Negative :( (score={prob:.4f})\\n\")\n",
    "\n",
    "\n",
    "\n",
    "predict_new_data(examples)\n"
   ]
  },
  {
   "cell_type": "markdown",
   "metadata": {},
   "source": [
    "# Test manually to plot confusion matrix:"
   ]
  },
  {
   "cell_type": "code",
   "execution_count": 41,
   "metadata": {},
   "outputs": [],
   "source": [
    "import pandas as pd \n",
    "import matplotlib.pyplot as plt\n",
    "import seaborn as sns\n",
    "from sklearn.metrics import confusion_matrix\n",
    "from sklearn.metrics import accuracy_score, precision_score, recall_score, f1_score\n"
   ]
  },
  {
   "cell_type": "code",
   "execution_count": 54,
   "metadata": {},
   "outputs": [
    {
     "data": {
      "text/html": [
       "<div>\n",
       "<style scoped>\n",
       "    .dataframe tbody tr th:only-of-type {\n",
       "        vertical-align: middle;\n",
       "    }\n",
       "\n",
       "    .dataframe tbody tr th {\n",
       "        vertical-align: top;\n",
       "    }\n",
       "\n",
       "    .dataframe thead th {\n",
       "        text-align: right;\n",
       "    }\n",
       "</style>\n",
       "<table border=\"1\" class=\"dataframe\">\n",
       "  <thead>\n",
       "    <tr style=\"text-align: right;\">\n",
       "      <th></th>\n",
       "      <th>review</th>\n",
       "      <th>sentiment</th>\n",
       "    </tr>\n",
       "  </thead>\n",
       "  <tbody>\n",
       "    <tr>\n",
       "      <th>0</th>\n",
       "      <td>go see last night coax friend mine admit reluc...</td>\n",
       "      <td>pos</td>\n",
       "    </tr>\n",
       "    <tr>\n",
       "      <th>1</th>\n",
       "      <td>actor turn director follow promising debut got...</td>\n",
       "      <td>pos</td>\n",
       "    </tr>\n",
       "    <tr>\n",
       "      <th>2</th>\n",
       "      <td>recreational golfer knowledge sport history pl...</td>\n",
       "      <td>pos</td>\n",
       "    </tr>\n",
       "    <tr>\n",
       "      <th>3</th>\n",
       "      <td>see sneak preview delightful cinematography un...</td>\n",
       "      <td>pos</td>\n",
       "    </tr>\n",
       "    <tr>\n",
       "      <th>4</th>\n",
       "      <td>take true us golf open make much extra ordinar...</td>\n",
       "      <td>pos</td>\n",
       "    </tr>\n",
       "    <tr>\n",
       "      <th>...</th>\n",
       "      <td>...</td>\n",
       "      <td>...</td>\n",
       "    </tr>\n",
       "    <tr>\n",
       "      <th>24995</th>\n",
       "      <td>occasionally let kid watch garbage understand ...</td>\n",
       "      <td>neg</td>\n",
       "    </tr>\n",
       "    <tr>\n",
       "      <th>24996</th>\n",
       "      <td>anymore pretty much reality tv show people mak...</td>\n",
       "      <td>neg</td>\n",
       "    </tr>\n",
       "    <tr>\n",
       "      <th>24997</th>\n",
       "      <td>basic genre thriller intercut uncomfortable me...</td>\n",
       "      <td>neg</td>\n",
       "    </tr>\n",
       "    <tr>\n",
       "      <th>24998</th>\n",
       "      <td>four thing intrigue firstly star carly pope po...</td>\n",
       "      <td>neg</td>\n",
       "    </tr>\n",
       "    <tr>\n",
       "      <th>24999</th>\n",
       "      <td>comment nearby exceptionally well write inform...</td>\n",
       "      <td>neg</td>\n",
       "    </tr>\n",
       "  </tbody>\n",
       "</table>\n",
       "<p>25000 rows × 2 columns</p>\n",
       "</div>"
      ],
      "text/plain": [
       "                                                  review sentiment\n",
       "0      go see last night coax friend mine admit reluc...       pos\n",
       "1      actor turn director follow promising debut got...       pos\n",
       "2      recreational golfer knowledge sport history pl...       pos\n",
       "3      see sneak preview delightful cinematography un...       pos\n",
       "4      take true us golf open make much extra ordinar...       pos\n",
       "...                                                  ...       ...\n",
       "24995  occasionally let kid watch garbage understand ...       neg\n",
       "24996  anymore pretty much reality tv show people mak...       neg\n",
       "24997  basic genre thriller intercut uncomfortable me...       neg\n",
       "24998  four thing intrigue firstly star carly pope po...       neg\n",
       "24999  comment nearby exceptionally well write inform...       neg\n",
       "\n",
       "[25000 rows x 2 columns]"
      ]
     },
     "execution_count": 54,
     "metadata": {},
     "output_type": "execute_result"
    }
   ],
   "source": [
    "test_csv = \"./dataset/testing_set_preprocessed.csv\"\n",
    "data = pd.read_csv(test_csv)\n",
    "data"
   ]
  },
  {
   "cell_type": "code",
   "execution_count": null,
   "metadata": {},
   "outputs": [],
   "source": [
    "# Map true labels to integers\n",
    "y_true = [1 if lbl == \"pos\" else 0 for lbl in data[\"sentiment\"]]"
   ]
  },
  {
   "cell_type": "code",
   "execution_count": null,
   "metadata": {},
   "outputs": [],
   "source": [
    "# Predict labels using the trained model\n",
    "y_pred = []\n",
    "for i, text in enumerate(data[\"review\"]):\n",
    "    pred_logits = model.predict(tf.constant([text]), verbose=0)\n",
    "    prob = tf.nn.sigmoid(pred_logits[0]).numpy().item()\n",
    "    y_pred.append(1 if prob > 0.5 else 0)\n"
   ]
  },
  {
   "cell_type": "code",
   "execution_count": 56,
   "metadata": {},
   "outputs": [
    {
     "data": {
      "image/png": "[encoded data removed]",
      "text/plain": [
       "<Figure size 1600x600 with 2 Axes>"
      ]
     },
     "metadata": {},
     "output_type": "display_data"
    }
   ],
   "source": [
    "# Confusion matrices\n",
    "conf_mtx = confusion_matrix(y_true, y_pred)\n",
    "conf_mtx_norm = confusion_matrix(y_true, y_pred, normalize=\"true\")\n",
    "\n",
    "# Plotting\n",
    "fig, axs = plt.subplots(1, 2, figsize=(16, 6))\n",
    "\n",
    "# Raw counts\n",
    "sns.heatmap(conf_mtx, annot=True, fmt='g', cmap='BuPu', xticklabels=['neg','pos'], yticklabels=['neg','pos'], ax=axs[0], cbar=False, annot_kws={\"size\":18})\n",
    "axs[0].set_xlabel(\"Predicted\")\n",
    "axs[0].set_ylabel(\"True\")\n",
    "axs[0].set_title(\"Confusion Matrix (Raw Counts)\", fontsize=16)\n",
    "\n",
    "# Normalized\n",
    "sns.heatmap(conf_mtx_norm, annot=True, fmt=\".2f\", cmap='BuPu', xticklabels=['neg','pos'], yticklabels=['neg','pos'], ax=axs[1], cbar=False, annot_kws={\"size\":18})\n",
    "axs[1].set_xlabel(\"Predicted\")\n",
    "axs[1].set_ylabel(\"True\")\n",
    "axs[1].set_title(\"Confusion Matrix (Normalized)\", fontsize=16)\n",
    "\n",
    "plt.tight_layout()\n",
    "plt.show()"
   ]
  },
  {
   "cell_type": "code",
   "execution_count": 57,
   "metadata": {},
   "outputs": [
    {
     "name": "stdout",
     "output_type": "stream",
     "text": [
      "Accuracy: 0.8858\n",
      "Precision: 0.9071\n",
      "Recall: 0.8595\n",
      "F1-score: 0.8827\n"
     ]
    }
   ],
   "source": [
    "# Compute metrics\n",
    "acc = accuracy_score(y_true, y_pred)\n",
    "prec = precision_score(y_true, y_pred)\n",
    "rec = recall_score(y_true, y_pred)\n",
    "f1 = f1_score(y_true, y_pred)\n",
    "\n",
    "print(f\"Accuracy: {acc:.4f}\")\n",
    "print(f\"Precision: {prec:.4f}\")\n",
    "print(f\"Recall: {rec:.4f}\")\n",
    "print(f\"F1-score: {f1:.4f}\")"
   ]
  }
 ],
 "metadata": {
  "kernelspec": {
   "display_name": "Python 3 (ipykernel)",
   "language": "python",
   "name": "python3"
  },
  "language_info": {
   "codemirror_mode": {
    "name": "ipython",
    "version": 3
   },
   "file_extension": ".py",
   "mimetype": "text/x-python",
   "name": "python",
   "nbconvert_exporter": "python",
   "pygments_lexer": "ipython3",
   "version": "3.11.5"
  }
 },
 "nbformat": 4,
 "nbformat_minor": 2
}
